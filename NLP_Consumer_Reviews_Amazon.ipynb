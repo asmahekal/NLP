{
  "nbformat": 4,
  "nbformat_minor": 0,
  "metadata": {
    "colab": {
      "name": "NLP_Consumer_Reviews_Amazon.ipynb",
      "provenance": []
    },
    "kernelspec": {
      "name": "python3",
      "display_name": "Python 3"
    },
    "language_info": {
      "name": "python"
    }
  },
  "cells": [
    {
      "cell_type": "code",
      "metadata": {
        "colab": {
          "base_uri": "https://localhost:8080/"
        },
        "id": "a4fUuValIqgw",
        "outputId": "e096a64a-664f-4e7e-c39e-f0f3462ecd5b"
      },
      "source": [
        "import os\n",
        "os.environ['KAGGLE_USERNAME'] = \"&&&&&&&\" # username from the json file\n",
        "os.environ['KAGGLE_KEY'] = \"&&&&&&&&&&&&&&&\" # key from the json file\n",
        "!kaggle datasets download -d datafiniti/consumer-reviews-of-amazon-products"
      ],
      "execution_count": 22,
      "outputs": [
        {
          "output_type": "stream",
          "name": "stdout",
          "text": [
            "consumer-reviews-of-amazon-products.zip: Skipping, found more recently modified local copy (use --force to force download)\n"
          ]
        }
      ]
    },
    {
      "cell_type": "code",
      "metadata": {
        "colab": {
          "base_uri": "https://localhost:8080/"
        },
        "id": "1k-ahZiFkQdR",
        "outputId": "ea9ebea4-9c6d-4688-dd54-2b5bebbeca35"
      },
      "source": [
        "import nltk\n",
        "nltk.download('all')"
      ],
      "execution_count": 55,
      "outputs": [
        {
          "output_type": "stream",
          "name": "stdout",
          "text": [
            "[nltk_data] Downloading collection 'all'\n",
            "[nltk_data]    | \n",
            "[nltk_data]    | Downloading package abc to /root/nltk_data...\n",
            "[nltk_data]    |   Unzipping corpora/abc.zip.\n",
            "[nltk_data]    | Downloading package alpino to /root/nltk_data...\n",
            "[nltk_data]    |   Unzipping corpora/alpino.zip.\n",
            "[nltk_data]    | Downloading package biocreative_ppi to\n",
            "[nltk_data]    |     /root/nltk_data...\n",
            "[nltk_data]    |   Unzipping corpora/biocreative_ppi.zip.\n",
            "[nltk_data]    | Downloading package brown to /root/nltk_data...\n",
            "[nltk_data]    |   Unzipping corpora/brown.zip.\n",
            "[nltk_data]    | Downloading package brown_tei to /root/nltk_data...\n",
            "[nltk_data]    |   Unzipping corpora/brown_tei.zip.\n",
            "[nltk_data]    | Downloading package cess_cat to /root/nltk_data...\n",
            "[nltk_data]    |   Unzipping corpora/cess_cat.zip.\n",
            "[nltk_data]    | Downloading package cess_esp to /root/nltk_data...\n",
            "[nltk_data]    |   Unzipping corpora/cess_esp.zip.\n",
            "[nltk_data]    | Downloading package chat80 to /root/nltk_data...\n",
            "[nltk_data]    |   Unzipping corpora/chat80.zip.\n",
            "[nltk_data]    | Downloading package city_database to\n",
            "[nltk_data]    |     /root/nltk_data...\n",
            "[nltk_data]    |   Unzipping corpora/city_database.zip.\n",
            "[nltk_data]    | Downloading package cmudict to /root/nltk_data...\n",
            "[nltk_data]    |   Unzipping corpora/cmudict.zip.\n",
            "[nltk_data]    | Downloading package comparative_sentences to\n",
            "[nltk_data]    |     /root/nltk_data...\n",
            "[nltk_data]    |   Unzipping corpora/comparative_sentences.zip.\n",
            "[nltk_data]    | Downloading package comtrans to /root/nltk_data...\n",
            "[nltk_data]    | Downloading package conll2000 to /root/nltk_data...\n",
            "[nltk_data]    |   Unzipping corpora/conll2000.zip.\n",
            "[nltk_data]    | Downloading package conll2002 to /root/nltk_data...\n",
            "[nltk_data]    |   Unzipping corpora/conll2002.zip.\n",
            "[nltk_data]    | Downloading package conll2007 to /root/nltk_data...\n",
            "[nltk_data]    | Downloading package crubadan to /root/nltk_data...\n",
            "[nltk_data]    |   Unzipping corpora/crubadan.zip.\n",
            "[nltk_data]    | Downloading package dependency_treebank to\n",
            "[nltk_data]    |     /root/nltk_data...\n",
            "[nltk_data]    |   Unzipping corpora/dependency_treebank.zip.\n",
            "[nltk_data]    | Downloading package dolch to /root/nltk_data...\n",
            "[nltk_data]    |   Unzipping corpora/dolch.zip.\n",
            "[nltk_data]    | Downloading package europarl_raw to\n",
            "[nltk_data]    |     /root/nltk_data...\n",
            "[nltk_data]    |   Unzipping corpora/europarl_raw.zip.\n",
            "[nltk_data]    | Downloading package floresta to /root/nltk_data...\n",
            "[nltk_data]    |   Unzipping corpora/floresta.zip.\n",
            "[nltk_data]    | Downloading package framenet_v15 to\n",
            "[nltk_data]    |     /root/nltk_data...\n",
            "[nltk_data]    |   Unzipping corpora/framenet_v15.zip.\n",
            "[nltk_data]    | Downloading package framenet_v17 to\n",
            "[nltk_data]    |     /root/nltk_data...\n",
            "[nltk_data]    |   Unzipping corpora/framenet_v17.zip.\n",
            "[nltk_data]    | Downloading package gazetteers to /root/nltk_data...\n",
            "[nltk_data]    |   Unzipping corpora/gazetteers.zip.\n",
            "[nltk_data]    | Downloading package genesis to /root/nltk_data...\n",
            "[nltk_data]    |   Unzipping corpora/genesis.zip.\n",
            "[nltk_data]    | Downloading package gutenberg to /root/nltk_data...\n",
            "[nltk_data]    |   Unzipping corpora/gutenberg.zip.\n",
            "[nltk_data]    | Downloading package ieer to /root/nltk_data...\n",
            "[nltk_data]    |   Unzipping corpora/ieer.zip.\n",
            "[nltk_data]    | Downloading package inaugural to /root/nltk_data...\n",
            "[nltk_data]    |   Unzipping corpora/inaugural.zip.\n",
            "[nltk_data]    | Downloading package indian to /root/nltk_data...\n",
            "[nltk_data]    |   Unzipping corpora/indian.zip.\n",
            "[nltk_data]    | Downloading package jeita to /root/nltk_data...\n",
            "[nltk_data]    | Downloading package kimmo to /root/nltk_data...\n",
            "[nltk_data]    |   Unzipping corpora/kimmo.zip.\n",
            "[nltk_data]    | Downloading package knbc to /root/nltk_data...\n",
            "[nltk_data]    | Downloading package lin_thesaurus to\n",
            "[nltk_data]    |     /root/nltk_data...\n",
            "[nltk_data]    |   Unzipping corpora/lin_thesaurus.zip.\n",
            "[nltk_data]    | Downloading package mac_morpho to /root/nltk_data...\n",
            "[nltk_data]    |   Unzipping corpora/mac_morpho.zip.\n",
            "[nltk_data]    | Downloading package machado to /root/nltk_data...\n",
            "[nltk_data]    | Downloading package masc_tagged to /root/nltk_data...\n",
            "[nltk_data]    | Downloading package moses_sample to\n",
            "[nltk_data]    |     /root/nltk_data...\n",
            "[nltk_data]    |   Unzipping models/moses_sample.zip.\n",
            "[nltk_data]    | Downloading package movie_reviews to\n",
            "[nltk_data]    |     /root/nltk_data...\n",
            "[nltk_data]    |   Unzipping corpora/movie_reviews.zip.\n",
            "[nltk_data]    | Downloading package names to /root/nltk_data...\n",
            "[nltk_data]    |   Unzipping corpora/names.zip.\n",
            "[nltk_data]    | Downloading package nombank.1.0 to /root/nltk_data...\n",
            "[nltk_data]    | Downloading package nps_chat to /root/nltk_data...\n",
            "[nltk_data]    |   Unzipping corpora/nps_chat.zip.\n",
            "[nltk_data]    | Downloading package omw to /root/nltk_data...\n",
            "[nltk_data]    |   Unzipping corpora/omw.zip.\n",
            "[nltk_data]    | Downloading package opinion_lexicon to\n",
            "[nltk_data]    |     /root/nltk_data...\n",
            "[nltk_data]    |   Unzipping corpora/opinion_lexicon.zip.\n",
            "[nltk_data]    | Downloading package paradigms to /root/nltk_data...\n",
            "[nltk_data]    |   Unzipping corpora/paradigms.zip.\n",
            "[nltk_data]    | Downloading package pil to /root/nltk_data...\n",
            "[nltk_data]    |   Unzipping corpora/pil.zip.\n",
            "[nltk_data]    | Downloading package pl196x to /root/nltk_data...\n",
            "[nltk_data]    |   Unzipping corpora/pl196x.zip.\n",
            "[nltk_data]    | Downloading package ppattach to /root/nltk_data...\n",
            "[nltk_data]    |   Unzipping corpora/ppattach.zip.\n",
            "[nltk_data]    | Downloading package problem_reports to\n",
            "[nltk_data]    |     /root/nltk_data...\n",
            "[nltk_data]    |   Unzipping corpora/problem_reports.zip.\n",
            "[nltk_data]    | Downloading package propbank to /root/nltk_data...\n",
            "[nltk_data]    | Downloading package ptb to /root/nltk_data...\n",
            "[nltk_data]    |   Unzipping corpora/ptb.zip.\n",
            "[nltk_data]    | Downloading package product_reviews_1 to\n",
            "[nltk_data]    |     /root/nltk_data...\n",
            "[nltk_data]    |   Unzipping corpora/product_reviews_1.zip.\n",
            "[nltk_data]    | Downloading package product_reviews_2 to\n",
            "[nltk_data]    |     /root/nltk_data...\n",
            "[nltk_data]    |   Unzipping corpora/product_reviews_2.zip.\n",
            "[nltk_data]    | Downloading package pros_cons to /root/nltk_data...\n",
            "[nltk_data]    |   Unzipping corpora/pros_cons.zip.\n",
            "[nltk_data]    | Downloading package qc to /root/nltk_data...\n",
            "[nltk_data]    |   Unzipping corpora/qc.zip.\n",
            "[nltk_data]    | Downloading package reuters to /root/nltk_data...\n",
            "[nltk_data]    | Downloading package rte to /root/nltk_data...\n",
            "[nltk_data]    |   Unzipping corpora/rte.zip.\n",
            "[nltk_data]    | Downloading package semcor to /root/nltk_data...\n",
            "[nltk_data]    | Downloading package senseval to /root/nltk_data...\n",
            "[nltk_data]    |   Unzipping corpora/senseval.zip.\n",
            "[nltk_data]    | Downloading package sentiwordnet to\n",
            "[nltk_data]    |     /root/nltk_data...\n",
            "[nltk_data]    |   Unzipping corpora/sentiwordnet.zip.\n",
            "[nltk_data]    | Downloading package sentence_polarity to\n",
            "[nltk_data]    |     /root/nltk_data...\n",
            "[nltk_data]    |   Unzipping corpora/sentence_polarity.zip.\n",
            "[nltk_data]    | Downloading package shakespeare to /root/nltk_data...\n",
            "[nltk_data]    |   Unzipping corpora/shakespeare.zip.\n",
            "[nltk_data]    | Downloading package sinica_treebank to\n",
            "[nltk_data]    |     /root/nltk_data...\n",
            "[nltk_data]    |   Unzipping corpora/sinica_treebank.zip.\n",
            "[nltk_data]    | Downloading package smultron to /root/nltk_data...\n",
            "[nltk_data]    |   Unzipping corpora/smultron.zip.\n",
            "[nltk_data]    | Downloading package state_union to /root/nltk_data...\n",
            "[nltk_data]    |   Unzipping corpora/state_union.zip.\n",
            "[nltk_data]    | Downloading package stopwords to /root/nltk_data...\n",
            "[nltk_data]    |   Package stopwords is already up-to-date!\n",
            "[nltk_data]    | Downloading package subjectivity to\n",
            "[nltk_data]    |     /root/nltk_data...\n",
            "[nltk_data]    |   Unzipping corpora/subjectivity.zip.\n",
            "[nltk_data]    | Downloading package swadesh to /root/nltk_data...\n",
            "[nltk_data]    |   Unzipping corpora/swadesh.zip.\n",
            "[nltk_data]    | Downloading package switchboard to /root/nltk_data...\n",
            "[nltk_data]    |   Unzipping corpora/switchboard.zip.\n",
            "[nltk_data]    | Downloading package timit to /root/nltk_data...\n",
            "[nltk_data]    |   Unzipping corpora/timit.zip.\n",
            "[nltk_data]    | Downloading package toolbox to /root/nltk_data...\n",
            "[nltk_data]    |   Unzipping corpora/toolbox.zip.\n",
            "[nltk_data]    | Downloading package treebank to /root/nltk_data...\n",
            "[nltk_data]    |   Unzipping corpora/treebank.zip.\n",
            "[nltk_data]    | Downloading package twitter_samples to\n",
            "[nltk_data]    |     /root/nltk_data...\n",
            "[nltk_data]    |   Unzipping corpora/twitter_samples.zip.\n",
            "[nltk_data]    | Downloading package udhr to /root/nltk_data...\n",
            "[nltk_data]    |   Unzipping corpora/udhr.zip.\n",
            "[nltk_data]    | Downloading package udhr2 to /root/nltk_data...\n",
            "[nltk_data]    |   Unzipping corpora/udhr2.zip.\n",
            "[nltk_data]    | Downloading package unicode_samples to\n",
            "[nltk_data]    |     /root/nltk_data...\n",
            "[nltk_data]    |   Unzipping corpora/unicode_samples.zip.\n",
            "[nltk_data]    | Downloading package universal_treebanks_v20 to\n",
            "[nltk_data]    |     /root/nltk_data...\n",
            "[nltk_data]    | Downloading package verbnet to /root/nltk_data...\n",
            "[nltk_data]    |   Unzipping corpora/verbnet.zip.\n",
            "[nltk_data]    | Downloading package verbnet3 to /root/nltk_data...\n",
            "[nltk_data]    |   Unzipping corpora/verbnet3.zip.\n",
            "[nltk_data]    | Downloading package webtext to /root/nltk_data...\n",
            "[nltk_data]    |   Unzipping corpora/webtext.zip.\n",
            "[nltk_data]    | Downloading package wordnet to /root/nltk_data...\n",
            "[nltk_data]    |   Unzipping corpora/wordnet.zip.\n",
            "[nltk_data]    | Downloading package wordnet_ic to /root/nltk_data...\n",
            "[nltk_data]    |   Unzipping corpora/wordnet_ic.zip.\n",
            "[nltk_data]    | Downloading package words to /root/nltk_data...\n",
            "[nltk_data]    |   Unzipping corpora/words.zip.\n",
            "[nltk_data]    | Downloading package ycoe to /root/nltk_data...\n",
            "[nltk_data]    |   Unzipping corpora/ycoe.zip.\n",
            "[nltk_data]    | Downloading package rslp to /root/nltk_data...\n",
            "[nltk_data]    |   Unzipping stemmers/rslp.zip.\n",
            "[nltk_data]    | Downloading package maxent_treebank_pos_tagger to\n",
            "[nltk_data]    |     /root/nltk_data...\n",
            "[nltk_data]    |   Unzipping taggers/maxent_treebank_pos_tagger.zip.\n",
            "[nltk_data]    | Downloading package universal_tagset to\n",
            "[nltk_data]    |     /root/nltk_data...\n",
            "[nltk_data]    |   Unzipping taggers/universal_tagset.zip.\n",
            "[nltk_data]    | Downloading package maxent_ne_chunker to\n",
            "[nltk_data]    |     /root/nltk_data...\n",
            "[nltk_data]    |   Unzipping chunkers/maxent_ne_chunker.zip.\n",
            "[nltk_data]    | Downloading package punkt to /root/nltk_data...\n",
            "[nltk_data]    |   Package punkt is already up-to-date!\n",
            "[nltk_data]    | Downloading package book_grammars to\n",
            "[nltk_data]    |     /root/nltk_data...\n",
            "[nltk_data]    |   Unzipping grammars/book_grammars.zip.\n",
            "[nltk_data]    | Downloading package sample_grammars to\n",
            "[nltk_data]    |     /root/nltk_data...\n",
            "[nltk_data]    |   Unzipping grammars/sample_grammars.zip.\n",
            "[nltk_data]    | Downloading package spanish_grammars to\n",
            "[nltk_data]    |     /root/nltk_data...\n",
            "[nltk_data]    |   Unzipping grammars/spanish_grammars.zip.\n",
            "[nltk_data]    | Downloading package basque_grammars to\n",
            "[nltk_data]    |     /root/nltk_data...\n",
            "[nltk_data]    |   Unzipping grammars/basque_grammars.zip.\n",
            "[nltk_data]    | Downloading package large_grammars to\n",
            "[nltk_data]    |     /root/nltk_data...\n",
            "[nltk_data]    |   Unzipping grammars/large_grammars.zip.\n",
            "[nltk_data]    | Downloading package tagsets to /root/nltk_data...\n",
            "[nltk_data]    |   Unzipping help/tagsets.zip.\n",
            "[nltk_data]    | Downloading package snowball_data to\n",
            "[nltk_data]    |     /root/nltk_data...\n",
            "[nltk_data]    | Downloading package bllip_wsj_no_aux to\n",
            "[nltk_data]    |     /root/nltk_data...\n",
            "[nltk_data]    |   Unzipping models/bllip_wsj_no_aux.zip.\n",
            "[nltk_data]    | Downloading package word2vec_sample to\n",
            "[nltk_data]    |     /root/nltk_data...\n",
            "[nltk_data]    |   Unzipping models/word2vec_sample.zip.\n",
            "[nltk_data]    | Downloading package panlex_swadesh to\n",
            "[nltk_data]    |     /root/nltk_data...\n",
            "[nltk_data]    | Downloading package mte_teip5 to /root/nltk_data...\n",
            "[nltk_data]    |   Unzipping corpora/mte_teip5.zip.\n",
            "[nltk_data]    | Downloading package averaged_perceptron_tagger to\n",
            "[nltk_data]    |     /root/nltk_data...\n",
            "[nltk_data]    |   Unzipping taggers/averaged_perceptron_tagger.zip.\n",
            "[nltk_data]    | Downloading package averaged_perceptron_tagger_ru to\n",
            "[nltk_data]    |     /root/nltk_data...\n",
            "[nltk_data]    |   Unzipping\n",
            "[nltk_data]    |       taggers/averaged_perceptron_tagger_ru.zip.\n",
            "[nltk_data]    | Downloading package perluniprops to\n",
            "[nltk_data]    |     /root/nltk_data...\n",
            "[nltk_data]    |   Unzipping misc/perluniprops.zip.\n",
            "[nltk_data]    | Downloading package nonbreaking_prefixes to\n",
            "[nltk_data]    |     /root/nltk_data...\n",
            "[nltk_data]    |   Unzipping corpora/nonbreaking_prefixes.zip.\n",
            "[nltk_data]    | Downloading package vader_lexicon to\n",
            "[nltk_data]    |     /root/nltk_data...\n",
            "[nltk_data]    | Downloading package porter_test to /root/nltk_data...\n",
            "[nltk_data]    |   Unzipping stemmers/porter_test.zip.\n",
            "[nltk_data]    | Downloading package wmt15_eval to /root/nltk_data...\n",
            "[nltk_data]    |   Unzipping models/wmt15_eval.zip.\n",
            "[nltk_data]    | Downloading package mwa_ppdb to /root/nltk_data...\n",
            "[nltk_data]    |   Unzipping misc/mwa_ppdb.zip.\n",
            "[nltk_data]    | \n",
            "[nltk_data]  Done downloading collection all\n"
          ]
        },
        {
          "output_type": "execute_result",
          "data": {
            "text/plain": [
              "True"
            ]
          },
          "metadata": {},
          "execution_count": 55
        }
      ]
    },
    {
      "cell_type": "code",
      "metadata": {
        "id": "kPc_BSVdJA9P"
      },
      "source": [
        "# Unzipping the files\n",
        "\n",
        "import zipfile\n",
        "\n",
        "with zipfile.ZipFile(\"/content/consumer-reviews-of-amazon-products.zip\") as z:\n",
        "    z.extractall(\".\")"
      ],
      "execution_count": 23,
      "outputs": []
    },
    {
      "cell_type": "code",
      "metadata": {
        "colab": {
          "base_uri": "https://localhost:8080/",
          "height": 757
        },
        "id": "a_Z-7pCCI4TK",
        "outputId": "440f68f8-c000-4e79-955c-4f60b938f588"
      },
      "source": [
        "import pandas as pd\n",
        "df = pd.read_csv('1429_1.csv', encoding='utf-8', header=0)\n",
        "df.head()"
      ],
      "execution_count": 56,
      "outputs": [
        {
          "output_type": "stream",
          "name": "stderr",
          "text": [
            "/usr/local/lib/python3.7/dist-packages/IPython/core/interactiveshell.py:2718: DtypeWarning: Columns (1,10) have mixed types.Specify dtype option on import or set low_memory=False.\n",
            "  interactivity=interactivity, compiler=compiler, result=result)\n"
          ]
        },
        {
          "output_type": "execute_result",
          "data": {
            "text/html": [
              "<div>\n",
              "<style scoped>\n",
              "    .dataframe tbody tr th:only-of-type {\n",
              "        vertical-align: middle;\n",
              "    }\n",
              "\n",
              "    .dataframe tbody tr th {\n",
              "        vertical-align: top;\n",
              "    }\n",
              "\n",
              "    .dataframe thead th {\n",
              "        text-align: right;\n",
              "    }\n",
              "</style>\n",
              "<table border=\"1\" class=\"dataframe\">\n",
              "  <thead>\n",
              "    <tr style=\"text-align: right;\">\n",
              "      <th></th>\n",
              "      <th>id</th>\n",
              "      <th>name</th>\n",
              "      <th>asins</th>\n",
              "      <th>brand</th>\n",
              "      <th>categories</th>\n",
              "      <th>keys</th>\n",
              "      <th>manufacturer</th>\n",
              "      <th>reviews.date</th>\n",
              "      <th>reviews.dateAdded</th>\n",
              "      <th>reviews.dateSeen</th>\n",
              "      <th>reviews.didPurchase</th>\n",
              "      <th>reviews.doRecommend</th>\n",
              "      <th>reviews.id</th>\n",
              "      <th>reviews.numHelpful</th>\n",
              "      <th>reviews.rating</th>\n",
              "      <th>reviews.sourceURLs</th>\n",
              "      <th>reviews.text</th>\n",
              "      <th>reviews.title</th>\n",
              "      <th>reviews.userCity</th>\n",
              "      <th>reviews.userProvince</th>\n",
              "      <th>reviews.username</th>\n",
              "    </tr>\n",
              "  </thead>\n",
              "  <tbody>\n",
              "    <tr>\n",
              "      <th>0</th>\n",
              "      <td>AVqkIhwDv8e3D1O-lebb</td>\n",
              "      <td>All-New Fire HD 8 Tablet, 8 HD Display, Wi-Fi,...</td>\n",
              "      <td>B01AHB9CN2</td>\n",
              "      <td>Amazon</td>\n",
              "      <td>Electronics,iPad &amp; Tablets,All Tablets,Fire Ta...</td>\n",
              "      <td>841667104676,amazon/53004484,amazon/b01ahb9cn2...</td>\n",
              "      <td>Amazon</td>\n",
              "      <td>2017-01-13T00:00:00.000Z</td>\n",
              "      <td>2017-07-03T23:33:15Z</td>\n",
              "      <td>2017-06-07T09:04:00.000Z,2017-04-30T00:45:00.000Z</td>\n",
              "      <td>NaN</td>\n",
              "      <td>True</td>\n",
              "      <td>NaN</td>\n",
              "      <td>0.0</td>\n",
              "      <td>5.0</td>\n",
              "      <td>http://reviews.bestbuy.com/3545/5620406/review...</td>\n",
              "      <td>This product so far has not disappointed. My c...</td>\n",
              "      <td>Kindle</td>\n",
              "      <td>NaN</td>\n",
              "      <td>NaN</td>\n",
              "      <td>Adapter</td>\n",
              "    </tr>\n",
              "    <tr>\n",
              "      <th>1</th>\n",
              "      <td>AVqkIhwDv8e3D1O-lebb</td>\n",
              "      <td>All-New Fire HD 8 Tablet, 8 HD Display, Wi-Fi,...</td>\n",
              "      <td>B01AHB9CN2</td>\n",
              "      <td>Amazon</td>\n",
              "      <td>Electronics,iPad &amp; Tablets,All Tablets,Fire Ta...</td>\n",
              "      <td>841667104676,amazon/53004484,amazon/b01ahb9cn2...</td>\n",
              "      <td>Amazon</td>\n",
              "      <td>2017-01-13T00:00:00.000Z</td>\n",
              "      <td>2017-07-03T23:33:15Z</td>\n",
              "      <td>2017-06-07T09:04:00.000Z,2017-04-30T00:45:00.000Z</td>\n",
              "      <td>NaN</td>\n",
              "      <td>True</td>\n",
              "      <td>NaN</td>\n",
              "      <td>0.0</td>\n",
              "      <td>5.0</td>\n",
              "      <td>http://reviews.bestbuy.com/3545/5620406/review...</td>\n",
              "      <td>great for beginner or experienced person. Boug...</td>\n",
              "      <td>very fast</td>\n",
              "      <td>NaN</td>\n",
              "      <td>NaN</td>\n",
              "      <td>truman</td>\n",
              "    </tr>\n",
              "    <tr>\n",
              "      <th>2</th>\n",
              "      <td>AVqkIhwDv8e3D1O-lebb</td>\n",
              "      <td>All-New Fire HD 8 Tablet, 8 HD Display, Wi-Fi,...</td>\n",
              "      <td>B01AHB9CN2</td>\n",
              "      <td>Amazon</td>\n",
              "      <td>Electronics,iPad &amp; Tablets,All Tablets,Fire Ta...</td>\n",
              "      <td>841667104676,amazon/53004484,amazon/b01ahb9cn2...</td>\n",
              "      <td>Amazon</td>\n",
              "      <td>2017-01-13T00:00:00.000Z</td>\n",
              "      <td>2017-07-03T23:33:15Z</td>\n",
              "      <td>2017-06-07T09:04:00.000Z,2017-04-30T00:45:00.000Z</td>\n",
              "      <td>NaN</td>\n",
              "      <td>True</td>\n",
              "      <td>NaN</td>\n",
              "      <td>0.0</td>\n",
              "      <td>5.0</td>\n",
              "      <td>http://reviews.bestbuy.com/3545/5620406/review...</td>\n",
              "      <td>Inexpensive tablet for him to use and learn on...</td>\n",
              "      <td>Beginner tablet for our 9 year old son.</td>\n",
              "      <td>NaN</td>\n",
              "      <td>NaN</td>\n",
              "      <td>DaveZ</td>\n",
              "    </tr>\n",
              "    <tr>\n",
              "      <th>3</th>\n",
              "      <td>AVqkIhwDv8e3D1O-lebb</td>\n",
              "      <td>All-New Fire HD 8 Tablet, 8 HD Display, Wi-Fi,...</td>\n",
              "      <td>B01AHB9CN2</td>\n",
              "      <td>Amazon</td>\n",
              "      <td>Electronics,iPad &amp; Tablets,All Tablets,Fire Ta...</td>\n",
              "      <td>841667104676,amazon/53004484,amazon/b01ahb9cn2...</td>\n",
              "      <td>Amazon</td>\n",
              "      <td>2017-01-13T00:00:00.000Z</td>\n",
              "      <td>2017-07-03T23:33:15Z</td>\n",
              "      <td>2017-06-07T09:04:00.000Z,2017-04-30T00:45:00.000Z</td>\n",
              "      <td>NaN</td>\n",
              "      <td>True</td>\n",
              "      <td>NaN</td>\n",
              "      <td>0.0</td>\n",
              "      <td>4.0</td>\n",
              "      <td>http://reviews.bestbuy.com/3545/5620406/review...</td>\n",
              "      <td>I've had my Fire HD 8 two weeks now and I love...</td>\n",
              "      <td>Good!!!</td>\n",
              "      <td>NaN</td>\n",
              "      <td>NaN</td>\n",
              "      <td>Shacks</td>\n",
              "    </tr>\n",
              "    <tr>\n",
              "      <th>4</th>\n",
              "      <td>AVqkIhwDv8e3D1O-lebb</td>\n",
              "      <td>All-New Fire HD 8 Tablet, 8 HD Display, Wi-Fi,...</td>\n",
              "      <td>B01AHB9CN2</td>\n",
              "      <td>Amazon</td>\n",
              "      <td>Electronics,iPad &amp; Tablets,All Tablets,Fire Ta...</td>\n",
              "      <td>841667104676,amazon/53004484,amazon/b01ahb9cn2...</td>\n",
              "      <td>Amazon</td>\n",
              "      <td>2017-01-12T00:00:00.000Z</td>\n",
              "      <td>2017-07-03T23:33:15Z</td>\n",
              "      <td>2017-06-07T09:04:00.000Z,2017-04-30T00:45:00.000Z</td>\n",
              "      <td>NaN</td>\n",
              "      <td>True</td>\n",
              "      <td>NaN</td>\n",
              "      <td>0.0</td>\n",
              "      <td>5.0</td>\n",
              "      <td>http://reviews.bestbuy.com/3545/5620406/review...</td>\n",
              "      <td>I bought this for my grand daughter when she c...</td>\n",
              "      <td>Fantastic Tablet for kids</td>\n",
              "      <td>NaN</td>\n",
              "      <td>NaN</td>\n",
              "      <td>explore42</td>\n",
              "    </tr>\n",
              "  </tbody>\n",
              "</table>\n",
              "</div>"
            ],
            "text/plain": [
              "                     id  ... reviews.username\n",
              "0  AVqkIhwDv8e3D1O-lebb  ...          Adapter\n",
              "1  AVqkIhwDv8e3D1O-lebb  ...           truman\n",
              "2  AVqkIhwDv8e3D1O-lebb  ...            DaveZ\n",
              "3  AVqkIhwDv8e3D1O-lebb  ...           Shacks\n",
              "4  AVqkIhwDv8e3D1O-lebb  ...        explore42\n",
              "\n",
              "[5 rows x 21 columns]"
            ]
          },
          "metadata": {},
          "execution_count": 56
        }
      ]
    },
    {
      "cell_type": "markdown",
      "metadata": {
        "id": "ssUe7CBzJJHn"
      },
      "source": [
        "***This dataset doesn't have a target column. We create one artificially by assuming reviews with score less than 3 will be negative and the rest is positive. ***"
      ]
    },
    {
      "cell_type": "code",
      "metadata": {
        "colab": {
          "base_uri": "https://localhost:8080/",
          "height": 722
        },
        "id": "nAHPcjWTJL8I",
        "outputId": "baccef13-8fe3-48eb-c9f6-ff09033c8ce2"
      },
      "source": [
        "def polarity(x):\n",
        "    if x < 3:\n",
        "        return 0\n",
        "    else:\n",
        "        return 1\n",
        "df[\"reviews.rating\"] = df[\"reviews.rating\"].map(polarity) #Map all the scores as the function polarity i.e. positive or negative\n",
        "df.head()"
      ],
      "execution_count": 57,
      "outputs": [
        {
          "output_type": "execute_result",
          "data": {
            "text/html": [
              "<div>\n",
              "<style scoped>\n",
              "    .dataframe tbody tr th:only-of-type {\n",
              "        vertical-align: middle;\n",
              "    }\n",
              "\n",
              "    .dataframe tbody tr th {\n",
              "        vertical-align: top;\n",
              "    }\n",
              "\n",
              "    .dataframe thead th {\n",
              "        text-align: right;\n",
              "    }\n",
              "</style>\n",
              "<table border=\"1\" class=\"dataframe\">\n",
              "  <thead>\n",
              "    <tr style=\"text-align: right;\">\n",
              "      <th></th>\n",
              "      <th>id</th>\n",
              "      <th>name</th>\n",
              "      <th>asins</th>\n",
              "      <th>brand</th>\n",
              "      <th>categories</th>\n",
              "      <th>keys</th>\n",
              "      <th>manufacturer</th>\n",
              "      <th>reviews.date</th>\n",
              "      <th>reviews.dateAdded</th>\n",
              "      <th>reviews.dateSeen</th>\n",
              "      <th>reviews.didPurchase</th>\n",
              "      <th>reviews.doRecommend</th>\n",
              "      <th>reviews.id</th>\n",
              "      <th>reviews.numHelpful</th>\n",
              "      <th>reviews.rating</th>\n",
              "      <th>reviews.sourceURLs</th>\n",
              "      <th>reviews.text</th>\n",
              "      <th>reviews.title</th>\n",
              "      <th>reviews.userCity</th>\n",
              "      <th>reviews.userProvince</th>\n",
              "      <th>reviews.username</th>\n",
              "    </tr>\n",
              "  </thead>\n",
              "  <tbody>\n",
              "    <tr>\n",
              "      <th>0</th>\n",
              "      <td>AVqkIhwDv8e3D1O-lebb</td>\n",
              "      <td>All-New Fire HD 8 Tablet, 8 HD Display, Wi-Fi,...</td>\n",
              "      <td>B01AHB9CN2</td>\n",
              "      <td>Amazon</td>\n",
              "      <td>Electronics,iPad &amp; Tablets,All Tablets,Fire Ta...</td>\n",
              "      <td>841667104676,amazon/53004484,amazon/b01ahb9cn2...</td>\n",
              "      <td>Amazon</td>\n",
              "      <td>2017-01-13T00:00:00.000Z</td>\n",
              "      <td>2017-07-03T23:33:15Z</td>\n",
              "      <td>2017-06-07T09:04:00.000Z,2017-04-30T00:45:00.000Z</td>\n",
              "      <td>NaN</td>\n",
              "      <td>True</td>\n",
              "      <td>NaN</td>\n",
              "      <td>0.0</td>\n",
              "      <td>1</td>\n",
              "      <td>http://reviews.bestbuy.com/3545/5620406/review...</td>\n",
              "      <td>This product so far has not disappointed. My c...</td>\n",
              "      <td>Kindle</td>\n",
              "      <td>NaN</td>\n",
              "      <td>NaN</td>\n",
              "      <td>Adapter</td>\n",
              "    </tr>\n",
              "    <tr>\n",
              "      <th>1</th>\n",
              "      <td>AVqkIhwDv8e3D1O-lebb</td>\n",
              "      <td>All-New Fire HD 8 Tablet, 8 HD Display, Wi-Fi,...</td>\n",
              "      <td>B01AHB9CN2</td>\n",
              "      <td>Amazon</td>\n",
              "      <td>Electronics,iPad &amp; Tablets,All Tablets,Fire Ta...</td>\n",
              "      <td>841667104676,amazon/53004484,amazon/b01ahb9cn2...</td>\n",
              "      <td>Amazon</td>\n",
              "      <td>2017-01-13T00:00:00.000Z</td>\n",
              "      <td>2017-07-03T23:33:15Z</td>\n",
              "      <td>2017-06-07T09:04:00.000Z,2017-04-30T00:45:00.000Z</td>\n",
              "      <td>NaN</td>\n",
              "      <td>True</td>\n",
              "      <td>NaN</td>\n",
              "      <td>0.0</td>\n",
              "      <td>1</td>\n",
              "      <td>http://reviews.bestbuy.com/3545/5620406/review...</td>\n",
              "      <td>great for beginner or experienced person. Boug...</td>\n",
              "      <td>very fast</td>\n",
              "      <td>NaN</td>\n",
              "      <td>NaN</td>\n",
              "      <td>truman</td>\n",
              "    </tr>\n",
              "    <tr>\n",
              "      <th>2</th>\n",
              "      <td>AVqkIhwDv8e3D1O-lebb</td>\n",
              "      <td>All-New Fire HD 8 Tablet, 8 HD Display, Wi-Fi,...</td>\n",
              "      <td>B01AHB9CN2</td>\n",
              "      <td>Amazon</td>\n",
              "      <td>Electronics,iPad &amp; Tablets,All Tablets,Fire Ta...</td>\n",
              "      <td>841667104676,amazon/53004484,amazon/b01ahb9cn2...</td>\n",
              "      <td>Amazon</td>\n",
              "      <td>2017-01-13T00:00:00.000Z</td>\n",
              "      <td>2017-07-03T23:33:15Z</td>\n",
              "      <td>2017-06-07T09:04:00.000Z,2017-04-30T00:45:00.000Z</td>\n",
              "      <td>NaN</td>\n",
              "      <td>True</td>\n",
              "      <td>NaN</td>\n",
              "      <td>0.0</td>\n",
              "      <td>1</td>\n",
              "      <td>http://reviews.bestbuy.com/3545/5620406/review...</td>\n",
              "      <td>Inexpensive tablet for him to use and learn on...</td>\n",
              "      <td>Beginner tablet for our 9 year old son.</td>\n",
              "      <td>NaN</td>\n",
              "      <td>NaN</td>\n",
              "      <td>DaveZ</td>\n",
              "    </tr>\n",
              "    <tr>\n",
              "      <th>3</th>\n",
              "      <td>AVqkIhwDv8e3D1O-lebb</td>\n",
              "      <td>All-New Fire HD 8 Tablet, 8 HD Display, Wi-Fi,...</td>\n",
              "      <td>B01AHB9CN2</td>\n",
              "      <td>Amazon</td>\n",
              "      <td>Electronics,iPad &amp; Tablets,All Tablets,Fire Ta...</td>\n",
              "      <td>841667104676,amazon/53004484,amazon/b01ahb9cn2...</td>\n",
              "      <td>Amazon</td>\n",
              "      <td>2017-01-13T00:00:00.000Z</td>\n",
              "      <td>2017-07-03T23:33:15Z</td>\n",
              "      <td>2017-06-07T09:04:00.000Z,2017-04-30T00:45:00.000Z</td>\n",
              "      <td>NaN</td>\n",
              "      <td>True</td>\n",
              "      <td>NaN</td>\n",
              "      <td>0.0</td>\n",
              "      <td>1</td>\n",
              "      <td>http://reviews.bestbuy.com/3545/5620406/review...</td>\n",
              "      <td>I've had my Fire HD 8 two weeks now and I love...</td>\n",
              "      <td>Good!!!</td>\n",
              "      <td>NaN</td>\n",
              "      <td>NaN</td>\n",
              "      <td>Shacks</td>\n",
              "    </tr>\n",
              "    <tr>\n",
              "      <th>4</th>\n",
              "      <td>AVqkIhwDv8e3D1O-lebb</td>\n",
              "      <td>All-New Fire HD 8 Tablet, 8 HD Display, Wi-Fi,...</td>\n",
              "      <td>B01AHB9CN2</td>\n",
              "      <td>Amazon</td>\n",
              "      <td>Electronics,iPad &amp; Tablets,All Tablets,Fire Ta...</td>\n",
              "      <td>841667104676,amazon/53004484,amazon/b01ahb9cn2...</td>\n",
              "      <td>Amazon</td>\n",
              "      <td>2017-01-12T00:00:00.000Z</td>\n",
              "      <td>2017-07-03T23:33:15Z</td>\n",
              "      <td>2017-06-07T09:04:00.000Z,2017-04-30T00:45:00.000Z</td>\n",
              "      <td>NaN</td>\n",
              "      <td>True</td>\n",
              "      <td>NaN</td>\n",
              "      <td>0.0</td>\n",
              "      <td>1</td>\n",
              "      <td>http://reviews.bestbuy.com/3545/5620406/review...</td>\n",
              "      <td>I bought this for my grand daughter when she c...</td>\n",
              "      <td>Fantastic Tablet for kids</td>\n",
              "      <td>NaN</td>\n",
              "      <td>NaN</td>\n",
              "      <td>explore42</td>\n",
              "    </tr>\n",
              "  </tbody>\n",
              "</table>\n",
              "</div>"
            ],
            "text/plain": [
              "                     id  ... reviews.username\n",
              "0  AVqkIhwDv8e3D1O-lebb  ...          Adapter\n",
              "1  AVqkIhwDv8e3D1O-lebb  ...           truman\n",
              "2  AVqkIhwDv8e3D1O-lebb  ...            DaveZ\n",
              "3  AVqkIhwDv8e3D1O-lebb  ...           Shacks\n",
              "4  AVqkIhwDv8e3D1O-lebb  ...        explore42\n",
              "\n",
              "[5 rows x 21 columns]"
            ]
          },
          "metadata": {},
          "execution_count": 57
        }
      ]
    },
    {
      "cell_type": "markdown",
      "metadata": {
        "id": "gXvBUmVjKhzR"
      },
      "source": [
        "# **Data class imbalance:**"
      ]
    },
    {
      "cell_type": "code",
      "metadata": {
        "colab": {
          "base_uri": "https://localhost:8080/",
          "height": 294
        },
        "id": "uLq71H-bJjGX",
        "outputId": "67b82852-8ead-4a0d-aa76-ea4654fd1382"
      },
      "source": [
        "import matplotlib.pyplot as plt\n",
        "import seaborn as sb\n",
        "\n",
        "plt.figure()\n",
        "ax = sb.countplot(x=df[\"reviews.rating\"], y = None, palette = \"Reds\")\n",
        "for p in ax.patches:\n",
        "    x=p.get_bbox().get_points()[:,0]\n",
        "    y=p.get_bbox().get_points()[1,1]\n",
        "    ax.annotate('{:.0f}'.format(y), (x.mean(), y), ha='center', va='bottom') \n",
        "plt.title('reviews.rating')\n",
        "plt.show()"
      ],
      "execution_count": 26,
      "outputs": [
        {
          "output_type": "display_data",
          "data": {
            "image/png": "[encoded data removed]",
            "text/plain": [
              "<Figure size 432x288 with 1 Axes>"
            ]
          },
          "metadata": {
            "needs_background": "light"
          }
        }
      ]
    },
    {
      "cell_type": "code",
      "metadata": {
        "colab": {
          "base_uri": "https://localhost:8080/"
        },
        "id": "yzXVfrAdJ0bO",
        "outputId": "3cb1e6f2-6f07-4586-8ca7-56a2dd59d34f"
      },
      "source": [
        "df[[\"reviews.text\",\"reviews.rating\"]].isnull().sum()"
      ],
      "execution_count": 81,
      "outputs": [
        {
          "output_type": "execute_result",
          "data": {
            "text/plain": [
              "reviews.text      1\n",
              "reviews.rating    0\n",
              "dtype: int64"
            ]
          },
          "metadata": {},
          "execution_count": 81
        }
      ]
    },
    {
      "cell_type": "code",
      "metadata": {
        "colab": {
          "base_uri": "https://localhost:8080/"
        },
        "id": "4CytCG4BvTQO",
        "outputId": "acbfa056-00eb-402f-c833-19f9249e11b7"
      },
      "source": [
        "df[[\"reviews.text\",\"reviews.rating\"]].dropna(inplace=True)"
      ],
      "execution_count": 82,
      "outputs": [
        {
          "output_type": "stream",
          "name": "stderr",
          "text": [
            "/usr/local/lib/python3.7/dist-packages/ipykernel_launcher.py:1: SettingWithCopyWarning: \n",
            "A value is trying to be set on a copy of a slice from a DataFrame\n",
            "\n",
            "See the caveats in the documentation: https://pandas.pydata.org/pandas-docs/stable/user_guide/indexing.html#returning-a-view-versus-a-copy\n",
            "  \"\"\"Entry point for launching an IPython kernel.\n"
          ]
        }
      ]
    },
    {
      "cell_type": "code",
      "metadata": {
        "colab": {
          "base_uri": "https://localhost:8080/"
        },
        "id": "Ay1UwTnOJ0-T",
        "outputId": "fd03c2ee-4d86-4c46-8b4e-bebd80bbd0fa"
      },
      "source": [
        "from sklearn.utils import shuffle, resample\n",
        "\n",
        "# Let's copy our dataframe so that we can use it clean for the upsampling example later.\n",
        "df2 = df[[\"reviews.text\",\"reviews.rating\"]]\n",
        "\n",
        "# Let's seperate our data into two based on the Score (True of False). \n",
        "df_negative = df2[df2[\"reviews.rating\"] == 0]\n",
        "df_positive = df2[df2[\"reviews.rating\"] == 1]\n",
        "\n",
        "print(\"Number of records before upsampling: \")\n",
        "print(\"1:\", len(df_positive), \"0:\", len(df_negative))"
      ],
      "execution_count": 83,
      "outputs": [
        {
          "output_type": "stream",
          "name": "stdout",
          "text": [
            "Number of records before upsampling: \n",
            "1: 33848 0: 812\n"
          ]
        }
      ]
    },
    {
      "cell_type": "code",
      "metadata": {
        "colab": {
          "base_uri": "https://localhost:8080/"
        },
        "id": "tkU07Uj_J9Yn",
        "outputId": "60ace512-6301-42b9-bff4-7fb93383ff79"
      },
      "source": [
        "# Let's use the resample function for upsampling.\n",
        "df_negative = resample(df_negative, replace=True, n_samples=len(df_positive))\n",
        "\n",
        "# Let's put the separated data frames together. \n",
        "df2 = pd.concat([df_negative, df_positive], axis=0)\n",
        "\n",
        "# Let's shuffle the data\n",
        "df2 = shuffle(df2)\n",
        "\n",
        "print(\"Number of records after upsampling: \")\n",
        "print(\"Positive:\", len(df2[df2[\"reviews.rating\"] == 1]), \"Negative:\", len(df2[df2[\"reviews.rating\"] == 0]))"
      ],
      "execution_count": 84,
      "outputs": [
        {
          "output_type": "stream",
          "name": "stdout",
          "text": [
            "Number of records after upsampling: \n",
            "Positive: 33848 Negative: 33848\n"
          ]
        }
      ]
    },
    {
      "cell_type": "code",
      "metadata": {
        "colab": {
          "base_uri": "https://localhost:8080/",
          "height": 294
        },
        "id": "r_5WTZSFKJrr",
        "outputId": "747e8136-8b96-4d38-8d2f-9b0d938884c8"
      },
      "source": [
        "import matplotlib.pyplot as plt\n",
        "import seaborn as sb\n",
        "\n",
        "plt.figure()\n",
        "ax = sb.countplot(x=df2[\"reviews.rating\"], y = None, palette = \"Reds\")\n",
        "for p in ax.patches:\n",
        "    x=p.get_bbox().get_points()[:,0]\n",
        "    y=p.get_bbox().get_points()[1,1]\n",
        "    ax.annotate('{:.0f}'.format(y), (x.mean(), y), ha='center', va='bottom') \n",
        "plt.title('Ratings after upsampling the negative class')\n",
        "plt.show()"
      ],
      "execution_count": 44,
      "outputs": [
        {
          "output_type": "display_data",
          "data": {
            "image/png": "[encoded data removed]",
            "text/plain": [
              "<Figure size 432x288 with 1 Axes>"
            ]
          },
          "metadata": {
            "needs_background": "light"
          }
        }
      ]
    },
    {
      "cell_type": "code",
      "metadata": {
        "id": "lkxJmFt4iqXm"
      },
      "source": [
        "df2.to_csv('check.csv', index=False)"
      ],
      "execution_count": 40,
      "outputs": []
    },
    {
      "cell_type": "markdown",
      "metadata": {
        "id": "HdLGr3SEKlSu"
      },
      "source": [
        "# **Exploratory Analysis and Preprocessing**"
      ]
    },
    {
      "cell_type": "code",
      "metadata": {
        "colab": {
          "base_uri": "https://localhost:8080/",
          "height": 414
        },
        "id": "SkG1lihJjKbW",
        "outputId": "ff4fc902-365f-4699-beca-48580afd6734"
      },
      "source": [
        "df2"
      ],
      "execution_count": 60,
      "outputs": [
        {
          "output_type": "execute_result",
          "data": {
            "text/html": [
              "<div>\n",
              "<style scoped>\n",
              "    .dataframe tbody tr th:only-of-type {\n",
              "        vertical-align: middle;\n",
              "    }\n",
              "\n",
              "    .dataframe tbody tr th {\n",
              "        vertical-align: top;\n",
              "    }\n",
              "\n",
              "    .dataframe thead th {\n",
              "        text-align: right;\n",
              "    }\n",
              "</style>\n",
              "<table border=\"1\" class=\"dataframe\">\n",
              "  <thead>\n",
              "    <tr style=\"text-align: right;\">\n",
              "      <th></th>\n",
              "      <th>reviews.text</th>\n",
              "      <th>reviews.rating</th>\n",
              "    </tr>\n",
              "  </thead>\n",
              "  <tbody>\n",
              "    <tr>\n",
              "      <th>19705</th>\n",
              "      <td>This is a great tablet and I love using it.it ...</td>\n",
              "      <td>1</td>\n",
              "    </tr>\n",
              "    <tr>\n",
              "      <th>31185</th>\n",
              "      <td>Love it, great for intertainment and I would r...</td>\n",
              "      <td>1</td>\n",
              "    </tr>\n",
              "    <tr>\n",
              "      <th>13258</th>\n",
              "      <td>Gave as a Christmas gift. Recently learned tha...</td>\n",
              "      <td>0</td>\n",
              "    </tr>\n",
              "    <tr>\n",
              "      <th>10026</th>\n",
              "      <td>Bought this for our daughter to use, but nothi...</td>\n",
              "      <td>0</td>\n",
              "    </tr>\n",
              "    <tr>\n",
              "      <th>32746</th>\n",
              "      <td>Great interface, 4K and below output. It is we...</td>\n",
              "      <td>1</td>\n",
              "    </tr>\n",
              "    <tr>\n",
              "      <th>...</th>\n",
              "      <td>...</td>\n",
              "      <td>...</td>\n",
              "    </tr>\n",
              "    <tr>\n",
              "      <th>29649</th>\n",
              "      <td>Great addition to the family room. Movies on d...</td>\n",
              "      <td>1</td>\n",
              "    </tr>\n",
              "    <tr>\n",
              "      <th>9115</th>\n",
              "      <td>I would never buy another Amazon product perso...</td>\n",
              "      <td>0</td>\n",
              "    </tr>\n",
              "    <tr>\n",
              "      <th>13539</th>\n",
              "      <td>It is tough to use these tablets if you are us...</td>\n",
              "      <td>0</td>\n",
              "    </tr>\n",
              "    <tr>\n",
              "      <th>2666</th>\n",
              "      <td>You get what you pay for... This is not great,...</td>\n",
              "      <td>0</td>\n",
              "    </tr>\n",
              "    <tr>\n",
              "      <th>5225</th>\n",
              "      <td>Unfortunately, the first time I plugged the Ta...</td>\n",
              "      <td>0</td>\n",
              "    </tr>\n",
              "  </tbody>\n",
              "</table>\n",
              "<p>67696 rows × 2 columns</p>\n",
              "</div>"
            ],
            "text/plain": [
              "                                            reviews.text  reviews.rating\n",
              "19705  This is a great tablet and I love using it.it ...               1\n",
              "31185  Love it, great for intertainment and I would r...               1\n",
              "13258  Gave as a Christmas gift. Recently learned tha...               0\n",
              "10026  Bought this for our daughter to use, but nothi...               0\n",
              "32746  Great interface, 4K and below output. It is we...               1\n",
              "...                                                  ...             ...\n",
              "29649  Great addition to the family room. Movies on d...               1\n",
              "9115   I would never buy another Amazon product perso...               0\n",
              "13539  It is tough to use these tablets if you are us...               0\n",
              "2666   You get what you pay for... This is not great,...               0\n",
              "5225   Unfortunately, the first time I plugged the Ta...               0\n",
              "\n",
              "[67696 rows x 2 columns]"
            ]
          },
          "metadata": {},
          "execution_count": 60
        }
      ]
    },
    {
      "cell_type": "code",
      "metadata": {
        "colab": {
          "base_uri": "https://localhost:8080/"
        },
        "id": "_6LYZccgKZGN",
        "outputId": "cb5c2c22-7952-4b8b-a729-cd23f6f80875"
      },
      "source": [
        "# Let's see how many nan values in our data frame\n",
        "print(df2.isna().sum())"
      ],
      "execution_count": 45,
      "outputs": [
        {
          "output_type": "stream",
          "name": "stdout",
          "text": [
            "reviews.text      1\n",
            "reviews.rating    0\n",
            "dtype: int64\n"
          ]
        }
      ]
    },
    {
      "cell_type": "code",
      "metadata": {
        "id": "5fAcOBA0vh6S"
      },
      "source": [
        "df2.dropna(inplace=True)"
      ],
      "execution_count": 86,
      "outputs": []
    },
    {
      "cell_type": "code",
      "metadata": {
        "colab": {
          "base_uri": "https://localhost:8080/"
        },
        "id": "YNuWJsdfqnS3",
        "outputId": "8ae03ee6-aefd-4a90-dff6-afe2bbf3da34"
      },
      "source": [
        "df2.info()"
      ],
      "execution_count": 87,
      "outputs": [
        {
          "output_type": "stream",
          "name": "stdout",
          "text": [
            "<class 'pandas.core.frame.DataFrame'>\n",
            "Int64Index: 67695 entries, 22408 to 2174\n",
            "Data columns (total 2 columns):\n",
            " #   Column          Non-Null Count  Dtype \n",
            "---  ------          --------------  ----- \n",
            " 0   reviews.text    67695 non-null  object\n",
            " 1   reviews.rating  67695 non-null  int64 \n",
            "dtypes: int64(1), object(1)\n",
            "memory usage: 1.5+ MB\n"
          ]
        }
      ]
    },
    {
      "cell_type": "markdown",
      "metadata": {
        "id": "JRTtToIUKwfP"
      },
      "source": [
        "*Let's split our data into training and validation subsets.*"
      ]
    },
    {
      "cell_type": "code",
      "metadata": {
        "id": "CRaQLLy6KrPt"
      },
      "source": [
        "from sklearn.model_selection import train_test_split\n",
        "\n",
        "X_train, X_val, y_train, y_val = train_test_split(df2[[\"reviews.text\"]], df2[\"reviews.rating\"].values, test_size=0.15, shuffle=True)"
      ],
      "execution_count": 88,
      "outputs": []
    },
    {
      "cell_type": "code",
      "metadata": {
        "colab": {
          "base_uri": "https://localhost:8080/",
          "height": 277
        },
        "id": "oR0l3d3vK0F4",
        "outputId": "f0bf27be-6563-42d3-a9b1-1ffc5af1f3a1"
      },
      "source": [
        "import matplotlib.pyplot as plt\n",
        "import seaborn as sb\n",
        "\n",
        "plt.figure()\n",
        "ax = sb.countplot(x=y_train, y = None)\n",
        "for p in ax.patches:\n",
        "    x=p.get_bbox().get_points()[:,0]\n",
        "    y=p.get_bbox().get_points()[1,1]\n",
        "    ax.annotate('{:.0f}'.format(y), (x.mean(), y), ha='center', va='bottom') \n",
        "plt.xticks(rotation=90)\n",
        "plt.title('Number of training records in each class')\n",
        "plt.show()"
      ],
      "execution_count": 89,
      "outputs": [
        {
          "output_type": "display_data",
          "data": {
            "image/png": "[encoded data removed]",
            "text/plain": [
              "<Figure size 432x288 with 1 Axes>"
            ]
          },
          "metadata": {
            "needs_background": "light"
          }
        }
      ]
    },
    {
      "cell_type": "markdown",
      "metadata": {
        "id": "5s4WvyeBK_yi"
      },
      "source": [
        "*Let's pre-process the data. We will remove stopwords and apply stemming*"
      ]
    },
    {
      "cell_type": "code",
      "metadata": {
        "colab": {
          "base_uri": "https://localhost:8080/"
        },
        "id": "59B_VXFMK2nz",
        "outputId": "5c91a9de-4d75-4a5b-f536-5dea929ecee2"
      },
      "source": [
        "import nltk\n",
        "from nltk.corpus import stopwords\n",
        "from nltk.stem import SnowballStemmer\n",
        "from nltk.tokenize import word_tokenize\n",
        "\n",
        "nltk.download('punkt', download_dir='/tmp/')\n",
        "nltk.download('stopwords', download_dir='/tmp/')\n",
        "nltk.data.path.append(\"tmp\")\n",
        "\n",
        "snow = SnowballStemmer('english') \n",
        "stop = stopwords.words('english')\n",
        "\n",
        "#excluding some useful words from stop words list\n",
        "excluding = ['against','not','don', \"don't\",'ain', 'aren', \"aren't\", 'couldn', \"couldn't\", 'didn', \"didn't\",\n",
        "             'doesn', \"doesn't\", 'hadn', \"hadn't\", 'hasn', \"hasn't\", 'haven', \"haven't\", 'isn', \"isn't\", \n",
        "             'mightn', \"mightn't\", 'mustn', \"mustn't\", 'needn', \"needn't\",'shouldn', \"shouldn't\", 'wasn',\n",
        "            \"wasn't\", 'weren', \"weren't\", 'won', \"won't\", 'wouldn', \"wouldn't\"]\n",
        "            \n",
        "stop_words = [words for words in stop if words not in excluding]\n",
        "\n",
        "def process_text(texts): \n",
        "    final_text_list=[]\n",
        "    for sent in texts:\n",
        "        filtered_sentence=[]\n",
        "        sent = sent.lower()\n",
        "        for w in word_tokenize(sent):\n",
        "            # Check if it is not numeric and its length>2 and not in stop words\n",
        "            if(not w.isnumeric()) and (len(w)>2) and (w not in stop_words):  \n",
        "                # Stem and add to filtered list\n",
        "                filtered_sentence.append(snow.stem(w))\n",
        "        str1 = \" \".join(filtered_sentence) #final string of cleaned words\n",
        "\n",
        "        final_text_list.append(str1)\n",
        "    return final_text_list"
      ],
      "execution_count": 90,
      "outputs": [
        {
          "output_type": "stream",
          "name": "stdout",
          "text": [
            "[nltk_data] Downloading package punkt to /tmp/...\n",
            "[nltk_data]   Package punkt is already up-to-date!\n",
            "[nltk_data] Downloading package stopwords to /tmp/...\n",
            "[nltk_data]   Package stopwords is already up-to-date!\n"
          ]
        }
      ]
    },
    {
      "cell_type": "code",
      "metadata": {
        "colab": {
          "base_uri": "https://localhost:8080/",
          "height": 414
        },
        "id": "pfZziC45Md3J",
        "outputId": "7ff442f2-366f-46b2-ce4e-2b7a868bd362"
      },
      "source": [
        "X_train"
      ],
      "execution_count": 33,
      "outputs": [
        {
          "output_type": "execute_result",
          "data": {
            "text/html": [
              "<div>\n",
              "<style scoped>\n",
              "    .dataframe tbody tr th:only-of-type {\n",
              "        vertical-align: middle;\n",
              "    }\n",
              "\n",
              "    .dataframe tbody tr th {\n",
              "        vertical-align: top;\n",
              "    }\n",
              "\n",
              "    .dataframe thead th {\n",
              "        text-align: right;\n",
              "    }\n",
              "</style>\n",
              "<table border=\"1\" class=\"dataframe\">\n",
              "  <thead>\n",
              "    <tr style=\"text-align: right;\">\n",
              "      <th></th>\n",
              "      <th>reviews.text</th>\n",
              "    </tr>\n",
              "  </thead>\n",
              "  <tbody>\n",
              "    <tr>\n",
              "      <th>13545</th>\n",
              "      <td>I bought 5 of these for the kids for Christmas...</td>\n",
              "    </tr>\n",
              "    <tr>\n",
              "      <th>30992</th>\n",
              "      <td>I tried this out for a few weeks and it does n...</td>\n",
              "    </tr>\n",
              "    <tr>\n",
              "      <th>3068</th>\n",
              "      <td>Dont have option for password ask you before b...</td>\n",
              "    </tr>\n",
              "    <tr>\n",
              "      <th>13524</th>\n",
              "      <td>Not much need for this thing, good price, but ...</td>\n",
              "    </tr>\n",
              "    <tr>\n",
              "      <th>24372</th>\n",
              "      <td>Alexa is a fun little assistant and the beginn...</td>\n",
              "    </tr>\n",
              "    <tr>\n",
              "      <th>...</th>\n",
              "      <td>...</td>\n",
              "    </tr>\n",
              "    <tr>\n",
              "      <th>28355</th>\n",
              "      <td>Bought it for my mother. She works at a beauty...</td>\n",
              "    </tr>\n",
              "    <tr>\n",
              "      <th>32368</th>\n",
              "      <td>It locked up on installing kodi and it wouldn'...</td>\n",
              "    </tr>\n",
              "    <tr>\n",
              "      <th>9307</th>\n",
              "      <td>There is not enough battery life to read comfo...</td>\n",
              "    </tr>\n",
              "    <tr>\n",
              "      <th>31387</th>\n",
              "      <td>I use this not just for amazon prime, but I lo...</td>\n",
              "    </tr>\n",
              "    <tr>\n",
              "      <th>32062</th>\n",
              "      <td>The Amazon Fire TV is definitely one of the to...</td>\n",
              "    </tr>\n",
              "  </tbody>\n",
              "</table>\n",
              "<p>57541 rows × 1 columns</p>\n",
              "</div>"
            ],
            "text/plain": [
              "                                            reviews.text\n",
              "13545  I bought 5 of these for the kids for Christmas...\n",
              "30992  I tried this out for a few weeks and it does n...\n",
              "3068   Dont have option for password ask you before b...\n",
              "13524  Not much need for this thing, good price, but ...\n",
              "24372  Alexa is a fun little assistant and the beginn...\n",
              "...                                                  ...\n",
              "28355  Bought it for my mother. She works at a beauty...\n",
              "32368  It locked up on installing kodi and it wouldn'...\n",
              "9307   There is not enough battery life to read comfo...\n",
              "31387  I use this not just for amazon prime, but I lo...\n",
              "32062  The Amazon Fire TV is definitely one of the to...\n",
              "\n",
              "[57541 rows x 1 columns]"
            ]
          },
          "metadata": {},
          "execution_count": 33
        }
      ]
    },
    {
      "cell_type": "code",
      "metadata": {
        "colab": {
          "base_uri": "https://localhost:8080/",
          "height": 414
        },
        "id": "Y1ywB07KiAS_",
        "outputId": "8cecfa0e-90ad-4bf6-8599-e13165709415"
      },
      "source": [
        "X_val"
      ],
      "execution_count": 36,
      "outputs": [
        {
          "output_type": "execute_result",
          "data": {
            "text/html": [
              "<div>\n",
              "<style scoped>\n",
              "    .dataframe tbody tr th:only-of-type {\n",
              "        vertical-align: middle;\n",
              "    }\n",
              "\n",
              "    .dataframe tbody tr th {\n",
              "        vertical-align: top;\n",
              "    }\n",
              "\n",
              "    .dataframe thead th {\n",
              "        text-align: right;\n",
              "    }\n",
              "</style>\n",
              "<table border=\"1\" class=\"dataframe\">\n",
              "  <thead>\n",
              "    <tr style=\"text-align: right;\">\n",
              "      <th></th>\n",
              "      <th>reviews.text</th>\n",
              "    </tr>\n",
              "  </thead>\n",
              "  <tbody>\n",
              "    <tr>\n",
              "      <th>16762</th>\n",
              "      <td>I bought this Kindle for my 7 year old grand-d...</td>\n",
              "    </tr>\n",
              "    <tr>\n",
              "      <th>10797</th>\n",
              "      <td>The price may be attractive, but not worth to ...</td>\n",
              "    </tr>\n",
              "    <tr>\n",
              "      <th>12177</th>\n",
              "      <td>This is my son's and he loves it. It has nice ...</td>\n",
              "    </tr>\n",
              "    <tr>\n",
              "      <th>33669</th>\n",
              "      <td>No words can explain what im viewing. I can no...</td>\n",
              "    </tr>\n",
              "    <tr>\n",
              "      <th>4501</th>\n",
              "      <td>This tablet has little cpu power and is really...</td>\n",
              "    </tr>\n",
              "    <tr>\n",
              "      <th>...</th>\n",
              "      <td>...</td>\n",
              "    </tr>\n",
              "    <tr>\n",
              "      <th>17076</th>\n",
              "      <td>This product is not user friendly much less ki...</td>\n",
              "    </tr>\n",
              "    <tr>\n",
              "      <th>26138</th>\n",
              "      <td>I would say about 50% of the questions you ask...</td>\n",
              "    </tr>\n",
              "    <tr>\n",
              "      <th>13399</th>\n",
              "      <td>Nice tab for young kids getting use to using T...</td>\n",
              "    </tr>\n",
              "    <tr>\n",
              "      <th>27442</th>\n",
              "      <td>Had all kinds of problems in registering it an...</td>\n",
              "    </tr>\n",
              "    <tr>\n",
              "      <th>16777</th>\n",
              "      <td>My granddaugther constantly drops her tablet a...</td>\n",
              "    </tr>\n",
              "  </tbody>\n",
              "</table>\n",
              "<p>10155 rows × 1 columns</p>\n",
              "</div>"
            ],
            "text/plain": [
              "                                            reviews.text\n",
              "16762  I bought this Kindle for my 7 year old grand-d...\n",
              "10797  The price may be attractive, but not worth to ...\n",
              "12177  This is my son's and he loves it. It has nice ...\n",
              "33669  No words can explain what im viewing. I can no...\n",
              "4501   This tablet has little cpu power and is really...\n",
              "...                                                  ...\n",
              "17076  This product is not user friendly much less ki...\n",
              "26138  I would say about 50% of the questions you ask...\n",
              "13399  Nice tab for young kids getting use to using T...\n",
              "27442  Had all kinds of problems in registering it an...\n",
              "16777  My granddaugther constantly drops her tablet a...\n",
              "\n",
              "[10155 rows x 1 columns]"
            ]
          },
          "metadata": {},
          "execution_count": 36
        }
      ]
    },
    {
      "cell_type": "code",
      "metadata": {
        "colab": {
          "base_uri": "https://localhost:8080/"
        },
        "id": "rQwq5kV4LN19",
        "outputId": "49cbe792-f69a-44f8-82b7-d6f75529f241"
      },
      "source": [
        "print(\"Pre-process training dataset\")\n",
        "X_train_text_processed = process_text(X_train[\"reviews.text\"].values)\n",
        "\n",
        "print(\"Pre-process validation dataset\")\n",
        "X_val_text_processed = process_text(X_val[\"reviews.text\"].values)"
      ],
      "execution_count": 91,
      "outputs": [
        {
          "output_type": "stream",
          "name": "stdout",
          "text": [
            "Pre-process training dataset\n",
            "Pre-process validation dataset\n"
          ]
        }
      ]
    },
    {
      "cell_type": "code",
      "metadata": {
        "id": "mpWxsfxQLTGF"
      },
      "source": [
        ""
      ],
      "execution_count": null,
      "outputs": []
    },
    {
      "cell_type": "markdown",
      "metadata": {
        "id": "9bVEGfslLbT_"
      },
      "source": [
        "# **Feature Extraction**"
      ]
    },
    {
      "cell_type": "code",
      "metadata": {
        "colab": {
          "base_uri": "https://localhost:8080/"
        },
        "id": "iq0CQvTuLdML",
        "outputId": "37a84a7e-daca-43bd-ad2c-a32f11aab3af"
      },
      "source": [
        "from sklearn.feature_extraction.text import CountVectorizer\n",
        "\n",
        "#Text -> Uni gram count Vectors\n",
        "tf_vectorizer = CountVectorizer(max_features=9500, ngram_range=(1, 2)) \n",
        "tf_vectorizer.fit(X_train_text_processed)\n",
        "X_train = tf_vectorizer.transform(X_train_text_processed)\n",
        "print(\"Training Data Size: \", X_train.shape)\n",
        "\n",
        "X_val = tf_vectorizer.transform(X_val_text_processed)\n",
        "print(\"Validation Data Size: \", X_val.shape)"
      ],
      "execution_count": 92,
      "outputs": [
        {
          "output_type": "stream",
          "name": "stdout",
          "text": [
            "Training Data Size:  (57540, 9500)\n",
            "Validation Data Size:  (10155, 9500)\n"
          ]
        }
      ]
    },
    {
      "cell_type": "markdown",
      "metadata": {
        "id": "7Zx7CjOSqzWz"
      },
      "source": [
        "# **Naive Bayes**"
      ]
    },
    {
      "cell_type": "code",
      "metadata": {
        "colab": {
          "base_uri": "https://localhost:8080/"
        },
        "id": "HtrXDVuMiSBv",
        "outputId": "4d3eb1c5-cd55-419b-a74a-2b19d98939f2"
      },
      "source": [
        "#Training the model and Testing Accuracy on Validation data\n",
        "from sklearn.metrics import classification_report\n",
        "from sklearn.naive_bayes import MultinomialNB\n",
        "\n",
        "nb = MultinomialNB()\n",
        "nb.fit(X_train.toarray(), y_train)\n",
        "\n",
        "y_val_pred = nb.predict(X_val.toarray())\n",
        "\n",
        "print(classification_report(y_val, y_val_pred)) "
      ],
      "execution_count": 93,
      "outputs": [
        {
          "output_type": "stream",
          "name": "stdout",
          "text": [
            "              precision    recall  f1-score   support\n",
            "\n",
            "           0       0.95      0.90      0.92      5062\n",
            "           1       0.90      0.96      0.93      5093\n",
            "\n",
            "    accuracy                           0.93     10155\n",
            "   macro avg       0.93      0.93      0.93     10155\n",
            "weighted avg       0.93      0.93      0.93     10155\n",
            "\n"
          ]
        }
      ]
    },
    {
      "cell_type": "markdown",
      "metadata": {
        "id": "XQmHwUknq4tH"
      },
      "source": [
        "# **Confusion matrix**"
      ]
    },
    {
      "cell_type": "code",
      "metadata": {
        "colab": {
          "base_uri": "https://localhost:8080/"
        },
        "id": "xyDsRliUrAXb",
        "outputId": "dc3949d5-bd46-4977-ab6e-cf3b9bdbba5c"
      },
      "source": [
        "from sklearn.metrics import confusion_matrix\n",
        "confusion_matrix(y_val, y_val_pred)"
      ],
      "execution_count": 95,
      "outputs": [
        {
          "output_type": "execute_result",
          "data": {
            "text/plain": [
              "array([[4545,  517],\n",
              "       [ 221, 4872]])"
            ]
          },
          "metadata": {},
          "execution_count": 95
        }
      ]
    },
    {
      "cell_type": "code",
      "metadata": {
        "id": "lg4f-D6t89tf"
      },
      "source": [
        ""
      ],
      "execution_count": null,
      "outputs": []
    },
    {
      "cell_type": "code",
      "metadata": {
        "id": "0MPJK64h893E"
      },
      "source": [
        ""
      ],
      "execution_count": null,
      "outputs": []
    },
    {
      "cell_type": "code",
      "metadata": {
        "id": "4mAHsygj896I"
      },
      "source": [
        ""
      ],
      "execution_count": null,
      "outputs": []
    },
    {
      "cell_type": "code",
      "metadata": {
        "id": "p2RovRky89-D"
      },
      "source": [
        "import numpy as np\n",
        "import matplotlib.pyplot as plt\n",
        "import pandas as pd\n",
        "import re\n",
        "import nltk"
      ],
      "execution_count": 104,
      "outputs": []
    },
    {
      "cell_type": "code",
      "metadata": {
        "id": "rwtSd4JRwCs7"
      },
      "source": [
        "# quoting = 3 will ignore double quotes\n",
        "dataset = pd.read_csv('https://raw.githubusercontent.com/futurexskill/ai/master/Restaurant_Reviews.tsv', delimiter = '\\t', quoting = 3)"
      ],
      "execution_count": 96,
      "outputs": []
    },
    {
      "cell_type": "code",
      "metadata": {
        "colab": {
          "base_uri": "https://localhost:8080/",
          "height": 202
        },
        "id": "FX2uTa1A8S_f",
        "outputId": "2058f75f-ef9d-4f13-caa4-8ce7b6b10c15"
      },
      "source": [
        "dataset.head()"
      ],
      "execution_count": 97,
      "outputs": [
        {
          "output_type": "execute_result",
          "data": {
            "text/html": [
              "<div>\n",
              "<style scoped>\n",
              "    .dataframe tbody tr th:only-of-type {\n",
              "        vertical-align: middle;\n",
              "    }\n",
              "\n",
              "    .dataframe tbody tr th {\n",
              "        vertical-align: top;\n",
              "    }\n",
              "\n",
              "    .dataframe thead th {\n",
              "        text-align: right;\n",
              "    }\n",
              "</style>\n",
              "<table border=\"1\" class=\"dataframe\">\n",
              "  <thead>\n",
              "    <tr style=\"text-align: right;\">\n",
              "      <th></th>\n",
              "      <th>Review</th>\n",
              "      <th>Liked</th>\n",
              "    </tr>\n",
              "  </thead>\n",
              "  <tbody>\n",
              "    <tr>\n",
              "      <th>0</th>\n",
              "      <td>Wow... Loved this place.</td>\n",
              "      <td>1</td>\n",
              "    </tr>\n",
              "    <tr>\n",
              "      <th>1</th>\n",
              "      <td>Crust is not good.</td>\n",
              "      <td>0</td>\n",
              "    </tr>\n",
              "    <tr>\n",
              "      <th>2</th>\n",
              "      <td>Not tasty and the texture was just nasty.</td>\n",
              "      <td>0</td>\n",
              "    </tr>\n",
              "    <tr>\n",
              "      <th>3</th>\n",
              "      <td>Stopped by during the late May bank holiday of...</td>\n",
              "      <td>1</td>\n",
              "    </tr>\n",
              "    <tr>\n",
              "      <th>4</th>\n",
              "      <td>The selection on the menu was great and so wer...</td>\n",
              "      <td>1</td>\n",
              "    </tr>\n",
              "  </tbody>\n",
              "</table>\n",
              "</div>"
            ],
            "text/plain": [
              "                                              Review  Liked\n",
              "0                           Wow... Loved this place.      1\n",
              "1                                 Crust is not good.      0\n",
              "2          Not tasty and the texture was just nasty.      0\n",
              "3  Stopped by during the late May bank holiday of...      1\n",
              "4  The selection on the menu was great and so wer...      1"
            ]
          },
          "metadata": {},
          "execution_count": 97
        }
      ]
    },
    {
      "cell_type": "code",
      "metadata": {
        "colab": {
          "base_uri": "https://localhost:8080/",
          "height": 35
        },
        "id": "41FF9pk08VyM",
        "outputId": "ef780e6a-0d39-4083-a098-12e689251423"
      },
      "source": [
        "# Sample sentence\n",
        "dataset['Review'][0]"
      ],
      "execution_count": 98,
      "outputs": [
        {
          "output_type": "execute_result",
          "data": {
            "application/vnd.google.colaboratory.intrinsic+json": {
              "type": "string"
            },
            "text/plain": [
              "'Wow... Loved this place.'"
            ]
          },
          "metadata": {},
          "execution_count": 98
        }
      ]
    },
    {
      "cell_type": "code",
      "metadata": {
        "colab": {
          "base_uri": "https://localhost:8080/",
          "height": 35
        },
        "id": "XTWnLqdR8YWh",
        "outputId": "f4bdd733-bd20-462f-afd4-2095a67ca4e4"
      },
      "source": [
        "# Sample sentence\n",
        "dataset['Review'][6]"
      ],
      "execution_count": 99,
      "outputs": [
        {
          "output_type": "execute_result",
          "data": {
            "application/vnd.google.colaboratory.intrinsic+json": {
              "type": "string"
            },
            "text/plain": [
              "\"Honeslty it didn't taste THAT fresh.)\""
            ]
          },
          "metadata": {},
          "execution_count": 99
        }
      ]
    },
    {
      "cell_type": "markdown",
      "metadata": {
        "id": "dGydIAqI8ecj"
      },
      "source": [
        "# **Import Stop Words**"
      ]
    },
    {
      "cell_type": "code",
      "metadata": {
        "id": "tTZKT6Hh8bkx"
      },
      "source": [
        "from nltk.corpus import stopwords\n"
      ],
      "execution_count": 100,
      "outputs": []
    },
    {
      "cell_type": "markdown",
      "metadata": {
        "id": "CsA8sYU68oos"
      },
      "source": [
        "# **Import Stemmer Class**"
      ]
    },
    {
      "cell_type": "code",
      "metadata": {
        "id": "KeM3C0Rl8l9N"
      },
      "source": [
        "from nltk.stem.porter import PorterStemmer"
      ],
      "execution_count": 101,
      "outputs": []
    },
    {
      "cell_type": "code",
      "metadata": {
        "id": "JOVwQkmL8u4d"
      },
      "source": [
        "ps = PorterStemmer()"
      ],
      "execution_count": 102,
      "outputs": []
    },
    {
      "cell_type": "markdown",
      "metadata": {
        "id": "N6-oZPVk8z4i"
      },
      "source": [
        "# **Create a Corpus of clean text**"
      ]
    },
    {
      "cell_type": "code",
      "metadata": {
        "id": "moI4_C518xWB"
      },
      "source": [
        "corpus = []\n",
        "for i in range(0, 1000):\n",
        "    review = re.sub('[^a-zA-Z]', ' ', dataset['Review'][i])\n",
        "    review = review.lower()\n",
        "    review = review.split()\n",
        "    ps = PorterStemmer()\n",
        "    review = [ps.stem(word) for word in review if not word in set(stopwords.words('english'))]\n",
        "    review = ' '.join(review)\n",
        "    corpus.append(review)"
      ],
      "execution_count": 105,
      "outputs": []
    },
    {
      "cell_type": "code",
      "metadata": {
        "colab": {
          "base_uri": "https://localhost:8080/",
          "height": 35
        },
        "id": "ZiNZxHyh83S0",
        "outputId": "b4b2c7bf-e0ea-4243-bde4-f69ee99c3982"
      },
      "source": [
        "corpus[0]"
      ],
      "execution_count": 106,
      "outputs": [
        {
          "output_type": "execute_result",
          "data": {
            "application/vnd.google.colaboratory.intrinsic+json": {
              "type": "string"
            },
            "text/plain": [
              "'wow love place'"
            ]
          },
          "metadata": {},
          "execution_count": 106
        }
      ]
    },
    {
      "cell_type": "code",
      "metadata": {
        "colab": {
          "base_uri": "https://localhost:8080/",
          "height": 35
        },
        "id": "b47psqjz9DQ7",
        "outputId": "bd0ee509-d8a8-4f2b-96a8-8f9f120ebc78"
      },
      "source": [
        "corpus[6]"
      ],
      "execution_count": 107,
      "outputs": [
        {
          "output_type": "execute_result",
          "data": {
            "application/vnd.google.colaboratory.intrinsic+json": {
              "type": "string"
            },
            "text/plain": [
              "'honeslti tast fresh'"
            ]
          },
          "metadata": {},
          "execution_count": 107
        }
      ]
    },
    {
      "cell_type": "markdown",
      "metadata": {
        "id": "XdK521_X9IU5"
      },
      "source": [
        "# **Create the Tf-Idf model for all reviews**"
      ]
    },
    {
      "cell_type": "code",
      "metadata": {
        "id": "SDrjBmg89Fw3"
      },
      "source": [
        "from sklearn.feature_extraction.text import TfidfVectorizer\n",
        "vectorizer = TfidfVectorizer(max_features = 1500, min_df = 3, max_df = 0.6)"
      ],
      "execution_count": 108,
      "outputs": []
    },
    {
      "cell_type": "code",
      "metadata": {
        "id": "2B8spnRt9MNn"
      },
      "source": [
        "X = vectorizer.fit_transform(corpus).toarray()"
      ],
      "execution_count": 109,
      "outputs": []
    },
    {
      "cell_type": "code",
      "metadata": {
        "colab": {
          "base_uri": "https://localhost:8080/"
        },
        "id": "aoPuIMgg9Ov1",
        "outputId": "63412073-bd8b-4c5e-da17-0ec4b291e848"
      },
      "source": [
        "# TF-IDF vector for sample sentences\n",
        "X[0]"
      ],
      "execution_count": 110,
      "outputs": [
        {
          "output_type": "execute_result",
          "data": {
            "text/plain": [
              "array([0.        , 0.        , 0.        , 0.        , 0.        ,\n",
              "       0.        , 0.        , 0.        , 0.        , 0.        ,\n",
              "       0.        , 0.        , 0.        , 0.        , 0.        ,\n",
              "       0.        , 0.        , 0.        , 0.        , 0.        ,\n",
              "       0.        , 0.        , 0.        , 0.        , 0.        ,\n",
              "       0.        , 0.        , 0.        , 0.        , 0.        ,\n",
              "       0.        , 0.        , 0.        , 0.        , 0.        ,\n",
              "       0.        , 0.        , 0.        , 0.        , 0.        ,\n",
              "       0.        , 0.        , 0.        , 0.        , 0.        ,\n",
              "       0.        , 0.        , 0.        , 0.        , 0.        ,\n",
              "       0.        , 0.        , 0.        , 0.        , 0.        ,\n",
              "       0.        , 0.        , 0.        , 0.        , 0.        ,\n",
              "       0.        , 0.        , 0.        , 0.        , 0.        ,\n",
              "       0.        , 0.        , 0.        , 0.        , 0.        ,\n",
              "       0.        , 0.        , 0.        , 0.        , 0.        ,\n",
              "       0.        , 0.        , 0.        , 0.        , 0.        ,\n",
              "       0.        , 0.        , 0.        , 0.        , 0.        ,\n",
              "       0.        , 0.        , 0.        , 0.        , 0.        ,\n",
              "       0.        , 0.        , 0.        , 0.        , 0.        ,\n",
              "       0.        , 0.        , 0.        , 0.        , 0.        ,\n",
              "       0.        , 0.        , 0.        , 0.        , 0.        ,\n",
              "       0.        , 0.        , 0.        , 0.        , 0.        ,\n",
              "       0.        , 0.        , 0.        , 0.        , 0.        ,\n",
              "       0.        , 0.        , 0.        , 0.        , 0.        ,\n",
              "       0.        , 0.        , 0.        , 0.        , 0.        ,\n",
              "       0.        , 0.        , 0.        , 0.        , 0.        ,\n",
              "       0.        , 0.        , 0.        , 0.        , 0.        ,\n",
              "       0.        , 0.        , 0.        , 0.        , 0.        ,\n",
              "       0.        , 0.        , 0.        , 0.        , 0.        ,\n",
              "       0.        , 0.        , 0.        , 0.        , 0.        ,\n",
              "       0.        , 0.        , 0.        , 0.        , 0.        ,\n",
              "       0.        , 0.        , 0.        , 0.        , 0.        ,\n",
              "       0.        , 0.        , 0.        , 0.        , 0.        ,\n",
              "       0.        , 0.        , 0.        , 0.        , 0.        ,\n",
              "       0.        , 0.        , 0.        , 0.        , 0.        ,\n",
              "       0.        , 0.        , 0.        , 0.        , 0.        ,\n",
              "       0.        , 0.        , 0.        , 0.        , 0.        ,\n",
              "       0.        , 0.        , 0.        , 0.        , 0.        ,\n",
              "       0.        , 0.        , 0.        , 0.        , 0.        ,\n",
              "       0.        , 0.        , 0.        , 0.        , 0.        ,\n",
              "       0.        , 0.        , 0.        , 0.        , 0.        ,\n",
              "       0.        , 0.        , 0.        , 0.        , 0.        ,\n",
              "       0.        , 0.        , 0.        , 0.        , 0.        ,\n",
              "       0.        , 0.        , 0.        , 0.        , 0.        ,\n",
              "       0.        , 0.        , 0.        , 0.        , 0.        ,\n",
              "       0.        , 0.        , 0.        , 0.        , 0.        ,\n",
              "       0.        , 0.        , 0.51611335, 0.        , 0.        ,\n",
              "       0.        , 0.        , 0.        , 0.        , 0.        ,\n",
              "       0.        , 0.        , 0.        , 0.        , 0.        ,\n",
              "       0.        , 0.        , 0.        , 0.        , 0.        ,\n",
              "       0.        , 0.        , 0.        , 0.        , 0.        ,\n",
              "       0.        , 0.        , 0.        , 0.        , 0.        ,\n",
              "       0.        , 0.        , 0.        , 0.        , 0.        ,\n",
              "       0.        , 0.        , 0.        , 0.        , 0.        ,\n",
              "       0.        , 0.        , 0.        , 0.        , 0.        ,\n",
              "       0.        , 0.        , 0.        , 0.        , 0.        ,\n",
              "       0.        , 0.        , 0.        , 0.        , 0.        ,\n",
              "       0.        , 0.        , 0.        , 0.        , 0.        ,\n",
              "       0.        , 0.        , 0.        , 0.        , 0.        ,\n",
              "       0.37891311, 0.        , 0.        , 0.        , 0.        ,\n",
              "       0.        , 0.        , 0.        , 0.        , 0.        ,\n",
              "       0.        , 0.        , 0.        , 0.        , 0.        ,\n",
              "       0.        , 0.        , 0.        , 0.        , 0.        ,\n",
              "       0.        , 0.        , 0.        , 0.        , 0.        ,\n",
              "       0.        , 0.        , 0.        , 0.        , 0.        ,\n",
              "       0.        , 0.        , 0.        , 0.        , 0.        ,\n",
              "       0.        , 0.        , 0.        , 0.        , 0.        ,\n",
              "       0.        , 0.        , 0.        , 0.        , 0.        ,\n",
              "       0.        , 0.        , 0.        , 0.        , 0.        ,\n",
              "       0.        , 0.        , 0.        , 0.        , 0.        ,\n",
              "       0.        , 0.        , 0.        , 0.        , 0.        ,\n",
              "       0.        , 0.        , 0.        , 0.        , 0.        ,\n",
              "       0.        , 0.        , 0.        , 0.        , 0.        ,\n",
              "       0.        , 0.        , 0.        , 0.        , 0.        ,\n",
              "       0.        , 0.        , 0.        , 0.        , 0.        ,\n",
              "       0.        , 0.        , 0.        , 0.        , 0.        ,\n",
              "       0.        , 0.        , 0.        , 0.        , 0.        ,\n",
              "       0.        , 0.        , 0.        , 0.        , 0.        ,\n",
              "       0.        , 0.        , 0.        , 0.        , 0.        ,\n",
              "       0.        , 0.        , 0.        , 0.        , 0.        ,\n",
              "       0.        , 0.        , 0.        , 0.        , 0.        ,\n",
              "       0.        , 0.        , 0.        , 0.        , 0.        ,\n",
              "       0.        , 0.        , 0.        , 0.        , 0.        ,\n",
              "       0.        , 0.        , 0.        , 0.        , 0.        ,\n",
              "       0.        , 0.        , 0.        , 0.        , 0.        ,\n",
              "       0.        , 0.        , 0.        , 0.        , 0.        ,\n",
              "       0.        , 0.        , 0.        , 0.        , 0.        ,\n",
              "       0.        , 0.        , 0.        , 0.        , 0.        ,\n",
              "       0.        , 0.        , 0.        , 0.        , 0.        ,\n",
              "       0.        , 0.        , 0.        , 0.        , 0.        ,\n",
              "       0.        , 0.        , 0.        , 0.        , 0.        ,\n",
              "       0.        , 0.        , 0.        , 0.        , 0.        ,\n",
              "       0.76814834, 0.        , 0.        , 0.        , 0.        ,\n",
              "       0.        , 0.        ])"
            ]
          },
          "metadata": {},
          "execution_count": 110
        }
      ]
    },
    {
      "cell_type": "code",
      "metadata": {
        "id": "JY4k_V_Z9QZK"
      },
      "source": [
        "y = dataset.iloc[:, 1].values\n"
      ],
      "execution_count": 111,
      "outputs": []
    },
    {
      "cell_type": "code",
      "metadata": {
        "id": "x4MIvmeM9THu"
      },
      "source": [
        "from sklearn.model_selection import train_test_split\n",
        "X_train, X_test, y_train, y_test = train_test_split(X, y, test_size = 0.20, random_state = 0)"
      ],
      "execution_count": 112,
      "outputs": []
    },
    {
      "cell_type": "code",
      "metadata": {
        "id": "BQ1AsXiI9Vj7"
      },
      "source": [
        ""
      ],
      "execution_count": null,
      "outputs": []
    },
    {
      "cell_type": "markdown",
      "metadata": {
        "id": "b5cSm8i19V0q"
      },
      "source": [
        "# **Build a KNN Classifier**"
      ]
    },
    {
      "cell_type": "code",
      "metadata": {
        "colab": {
          "base_uri": "https://localhost:8080/"
        },
        "id": "fi2MCiVK9ZXr",
        "outputId": "f5fa08c1-0486-452c-b4e1-6ce4b19d5d35"
      },
      "source": [
        "# Training the KNN model\n",
        "from sklearn.neighbors import KNeighborsClassifier\n",
        "# minkowski is for ecledian distance\n",
        "classifierKNN = KNeighborsClassifier(n_neighbors = 5, metric = 'minkowski', p = 2)\n",
        "classifierKNN.fit(X_train, y_train)"
      ],
      "execution_count": 113,
      "outputs": [
        {
          "output_type": "execute_result",
          "data": {
            "text/plain": [
              "KNeighborsClassifier(algorithm='auto', leaf_size=30, metric='minkowski',\n",
              "                     metric_params=None, n_jobs=None, n_neighbors=5, p=2,\n",
              "                     weights='uniform')"
            ]
          },
          "metadata": {},
          "execution_count": 113
        }
      ]
    },
    {
      "cell_type": "markdown",
      "metadata": {
        "id": "x7UQvvdR9euc"
      },
      "source": [
        "# **Build a Naive Bayes Classifier**"
      ]
    },
    {
      "cell_type": "code",
      "metadata": {
        "colab": {
          "base_uri": "https://localhost:8080/"
        },
        "id": "lVLiw8a59Zat",
        "outputId": "c05178e5-3d20-4889-c34a-95c2c8c1e787"
      },
      "source": [
        "#from sklearn.naive_bayes import GaussianNB\n",
        "from sklearn.naive_bayes import MultinomialNB\n",
        "#classifier = GaussianNB()\n",
        "classifierNB = MultinomialNB()\n",
        "classifierNB.fit(X_train, y_train)"
      ],
      "execution_count": 114,
      "outputs": [
        {
          "output_type": "execute_result",
          "data": {
            "text/plain": [
              "MultinomialNB(alpha=1.0, class_prior=None, fit_prior=True)"
            ]
          },
          "metadata": {},
          "execution_count": 114
        }
      ]
    },
    {
      "cell_type": "markdown",
      "metadata": {
        "id": "6Tv1cVMd9lwC"
      },
      "source": [
        "# **Evaluate both the models**"
      ]
    },
    {
      "cell_type": "code",
      "metadata": {
        "id": "hkn9Yz-59Zde"
      },
      "source": [
        "y_pred_knn = classifierKNN.predict(X_test)\n"
      ],
      "execution_count": 115,
      "outputs": []
    },
    {
      "cell_type": "code",
      "metadata": {
        "id": "d4kjFO4C9p5v"
      },
      "source": [
        "y_pred_NB = classifierNB.predict(X_test)\n"
      ],
      "execution_count": 116,
      "outputs": []
    },
    {
      "cell_type": "code",
      "metadata": {
        "id": "nwuQM7lA9qKB"
      },
      "source": [
        "from sklearn.metrics import classification_report, accuracy_score,confusion_matrix\n"
      ],
      "execution_count": 117,
      "outputs": []
    },
    {
      "cell_type": "code",
      "metadata": {
        "colab": {
          "base_uri": "https://localhost:8080/"
        },
        "id": "TIdwdFqM9tri",
        "outputId": "a4cef33a-de6a-48d4-e989-249cff9a6a06"
      },
      "source": [
        "cmknn = confusion_matrix(y_test, y_pred_knn)\n",
        "cmknn"
      ],
      "execution_count": 118,
      "outputs": [
        {
          "output_type": "execute_result",
          "data": {
            "text/plain": [
              "array([[87, 10],\n",
              "       [74, 29]])"
            ]
          },
          "metadata": {},
          "execution_count": 118
        }
      ]
    },
    {
      "cell_type": "code",
      "metadata": {
        "colab": {
          "base_uri": "https://localhost:8080/"
        },
        "id": "ndxG1ypw9v49",
        "outputId": "07ad8ab6-aed9-4604-c90f-173308087412"
      },
      "source": [
        "cmNB = confusion_matrix(y_test, y_pred_NB)\n",
        "cmNB"
      ],
      "execution_count": 119,
      "outputs": [
        {
          "output_type": "execute_result",
          "data": {
            "text/plain": [
              "array([[75, 22],\n",
              "       [23, 80]])"
            ]
          },
          "metadata": {},
          "execution_count": 119
        }
      ]
    },
    {
      "cell_type": "code",
      "metadata": {
        "colab": {
          "base_uri": "https://localhost:8080/"
        },
        "id": "zEMdXgLX9yv3",
        "outputId": "c697d92b-890e-4006-acf4-faf3101680cb"
      },
      "source": [
        "print(\"KNN accuracy \\n\", accuracy_score(y_test,y_pred_knn))\n"
      ],
      "execution_count": 120,
      "outputs": [
        {
          "output_type": "stream",
          "name": "stdout",
          "text": [
            "KNN accuracy \n",
            " 0.58\n"
          ]
        }
      ]
    },
    {
      "cell_type": "code",
      "metadata": {
        "colab": {
          "base_uri": "https://localhost:8080/"
        },
        "id": "VQOiPUeS91VD",
        "outputId": "bba13b36-704b-48ab-e419-d3fc51153e75"
      },
      "source": [
        "print(\"Naive Bayes accuracy \\n\", accuracy_score(y_test,y_pred_NB))\n"
      ],
      "execution_count": 121,
      "outputs": [
        {
          "output_type": "stream",
          "name": "stdout",
          "text": [
            "Naive Bayes accuracy \n",
            " 0.775\n"
          ]
        }
      ]
    },
    {
      "cell_type": "markdown",
      "metadata": {
        "id": "bsQjW5t097lB"
      },
      "source": [
        "***Naive Bayes gives higher accuracy so we will use that to predict output for new data ***\n",
        "***\n",
        "***"
      ]
    },
    {
      "cell_type": "code",
      "metadata": {
        "id": "xS_RvjmY91jX"
      },
      "source": [
        "sample = [\"Good batting by England\"]"
      ],
      "execution_count": 122,
      "outputs": []
    },
    {
      "cell_type": "code",
      "metadata": {
        "id": "C1ZxbqDZ-HaC"
      },
      "source": [
        "# create the TF-IDF model of the sample sentence\n",
        "sample = vectorizer.transform(sample).toarray()"
      ],
      "execution_count": 123,
      "outputs": []
    },
    {
      "cell_type": "code",
      "metadata": {
        "colab": {
          "base_uri": "https://localhost:8080/"
        },
        "id": "7FD7GhCY-H-d",
        "outputId": "e6c04169-1315-436c-d4e2-cfe0100df867"
      },
      "source": [
        "#predict the sentiment\n",
        "sentiment = classifierNB.predict(sample)\n",
        "if (sentiment==1):\n",
        "    print(\"Good Review\")\n",
        "else:\n",
        "    print(\"Bad Review\")"
      ],
      "execution_count": 124,
      "outputs": [
        {
          "output_type": "stream",
          "name": "stdout",
          "text": [
            "Good Review\n"
          ]
        }
      ]
    },
    {
      "cell_type": "code",
      "metadata": {
        "colab": {
          "base_uri": "https://localhost:8080/"
        },
        "id": "SfsWFXar-KK1",
        "outputId": "0a565105-7c4e-4efc-a9e8-45c9e3fbe2ba"
      },
      "source": [
        "sample2 = [\"bad performance by India in the match\"]\n",
        "sample2 = vectorizer.transform(sample2).toarray()\n",
        "sentiment2 = classifierNB.predict(sample2)\n",
        "if (sentiment2==1):\n",
        "    print(\"Good Review\")\n",
        "else:\n",
        "    print(\"Bad Review\")"
      ],
      "execution_count": 125,
      "outputs": [
        {
          "output_type": "stream",
          "name": "stdout",
          "text": [
            "Bad Review\n"
          ]
        }
      ]
    },
    {
      "cell_type": "code",
      "metadata": {
        "id": "Na05Vjbk-MTd"
      },
      "source": [
        "import pickle"
      ],
      "execution_count": 126,
      "outputs": []
    },
    {
      "cell_type": "code",
      "metadata": {
        "id": "w5qKFom5-O4k"
      },
      "source": [
        "with open('classifier.pickle','wb') as file:\n",
        "    pickle.dump(classifierNB,file)"
      ],
      "execution_count": 127,
      "outputs": []
    },
    {
      "cell_type": "code",
      "metadata": {
        "id": "rFbcrJdv-PDF"
      },
      "source": [
        "with open('tfidfmodel.pickle','wb') as file:\n",
        "    pickle.dump(vectorizer,file)"
      ],
      "execution_count": 128,
      "outputs": []
    },
    {
      "cell_type": "code",
      "metadata": {
        "colab": {
          "base_uri": "https://localhost:8080/"
        },
        "id": "Xr5eZbzo-Sz-",
        "outputId": "5ce2541d-e2d8-4715-d393-f09ec83c1e47"
      },
      "source": [
        "!ls"
      ],
      "execution_count": 129,
      "outputs": [
        {
          "output_type": "stream",
          "name": "stdout",
          "text": [
            "1429_1.csv\n",
            "check.csv\n",
            "classifier.pickle\n",
            "consumer-reviews-of-amazon-products.zip\n",
            "Datafiniti_Amazon_Consumer_Reviews_of_Amazon_Products.csv\n",
            "Datafiniti_Amazon_Consumer_Reviews_of_Amazon_Products_May19.csv\n",
            "sample_data\n",
            "tfidfmodel.pickle\n"
          ]
        }
      ]
    },
    {
      "cell_type": "code",
      "metadata": {
        "id": "1taTorUY-U_4"
      },
      "source": [
        ""
      ],
      "execution_count": null,
      "outputs": []
    }
  ]
}